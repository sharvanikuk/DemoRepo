{
  "nbformat": 4,
  "nbformat_minor": 0,
  "metadata": {
    "colab": {
      "provenance": [],
      "authorship_tag": "ABX9TyOx0GWkFs49W73dyo7/DnBn",
      "include_colab_link": true
    },
    "kernelspec": {
      "name": "python3",
      "display_name": "Python 3"
    },
    "language_info": {
      "name": "python"
    }
  },
  "cells": [
    {
      "cell_type": "markdown",
      "metadata": {
        "id": "view-in-github",
        "colab_type": "text"
      },
      "source": [
        "<a href=\"https://colab.research.google.com/github/sharvanikuk/DemoRepo/blob/master/RagExample.ipynb\" target=\"_parent\"><img src=\"https://colab.research.google.com/assets/colab-badge.svg\" alt=\"Open In Colab\"/></a>"
      ]
    },
    {
      "cell_type": "code",
      "source": [
        "#%pip install langchain-community"
      ],
      "metadata": {
        "id": "ZAyqAQIQUH7r"
      },
      "execution_count": null,
      "outputs": []
    },
    {
      "cell_type": "code",
      "execution_count": null,
      "metadata": {
        "id": "q6bFlqYRTj2N"
      },
      "outputs": [],
      "source": [
        "from langchain_community.document_loaders import TextLoader\n",
        "\n",
        "loader=TextLoader('speech.txt')\n",
        "text_documents=loader.load()\n",
        "text_documents"
      ]
    },
    {
      "cell_type": "code",
      "source": [
        "import os\n",
        "from dotenv import load_dotenv\n",
        "load_dotenv()\n",
        "\n",
        "os.environ[\"GROQ_API_KEY\"]=os.getenv(\"GROQ_API_KEY\")"
      ],
      "metadata": {
        "id": "tzmfJ428k0Vm"
      },
      "execution_count": 7,
      "outputs": []
    },
    {
      "cell_type": "code",
      "source": [
        "# Web based loader\n",
        "\n",
        "from langchain_community.document_loaders import WebBaseLoader\n",
        "import bs4\n",
        "# Load, chunk and index the content of the html page\n",
        "\n",
        "loader=WebBaseLoader(web_paths=(\"https://lilianweng.github.io/posts/2023-06-23-agent/\",),\n",
        "                     bs_kwargs=dict(parse_only=bs4.SoupStrainer(\n",
        "                         class_=(\"post-title\",\"post-content\",\"post-header\")\n",
        "                     )))\n",
        "text_documents=loader.load()"
      ],
      "metadata": {
        "id": "z4i1GgS2lL2U"
      },
      "execution_count": 9,
      "outputs": []
    }
  ]
}